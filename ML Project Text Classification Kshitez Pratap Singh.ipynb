{
 "cells": [
  {
   "cell_type": "markdown",
   "id": "2948f272",
   "metadata": {},
   "source": [
    "# Machine Learning 28\n",
    "## Project :- Test Classification as Spam and Ham, apply this using Naive Bayes Multinomial"
   ]
  },
  {
   "cell_type": "markdown",
   "id": "30ee6fbd",
   "metadata": {},
   "source": [
    "### Importing the Dataset"
   ]
  },
  {
   "cell_type": "markdown",
   "id": "a55f4267",
   "metadata": {},
   "source": [
    "We have Finded the Dataset on which further processing will take place\n",
    "\n",
    "Dataset :- Spam and Ham <br>\n",
    "Columns :- label , sms_message"
   ]
  },
  {
   "cell_type": "markdown",
   "id": "883d1d0a",
   "metadata": {},
   "source": [
    "### Importing the Libraries"
   ]
  },
  {
   "cell_type": "code",
   "execution_count": 1,
   "id": "7d1b9865",
   "metadata": {},
   "outputs": [],
   "source": [
    "import numpy as np\n",
    "import pandas as pd\n",
    "import seaborn as sns\n",
    "import matplotlib.pyplot as plt\n",
    "\n",
    "from sklearn.metrics import confusion_matrix\n",
    "from sklearn.model_selection import train_test_split\n",
    "\n",
    "import matplotlib.pyplot as plt"
   ]
  },
  {
   "cell_type": "markdown",
   "id": "5e31c895",
   "metadata": {},
   "source": [
    "### Importing the Dataset "
   ]
  },
  {
   "cell_type": "code",
   "execution_count": 2,
   "id": "46b837e3",
   "metadata": {},
   "outputs": [],
   "source": [
    "# using encoding will help to increase the word bank as latin contain more number of words\n",
    "# This dataset includes the text of SMS messages along with a label indicating whether the message is unwanted\n",
    "# Therefore, Junk messages are labeled spam, while legitimate messages are labeled ham.\n",
    " \n",
    "df = pd.read_csv(r\"K:\\Ml Dataset\\spam.csv\",encoding='latin-1')"
   ]
  },
  {
   "cell_type": "code",
   "execution_count": 3,
   "id": "15665022",
   "metadata": {},
   "outputs": [
    {
     "name": "stdout",
     "output_type": "stream",
     "text": [
      "Number of Rows   :  5572\n",
      "Number of Columns:  5\n"
     ]
    }
   ],
   "source": [
    "x,y=df.shape\n",
    "print('Number of Rows   : ',x)\n",
    "print('Number of Columns: ',y)"
   ]
  },
  {
   "cell_type": "code",
   "execution_count": 4,
   "id": "8e3d794c",
   "metadata": {},
   "outputs": [
    {
     "data": {
      "text/plain": [
       "Index(['label', 'sms_message', 'Unnamed: 2', 'Unnamed: 3', 'Unnamed: 4'], dtype='object')"
      ]
     },
     "execution_count": 4,
     "metadata": {},
     "output_type": "execute_result"
    }
   ],
   "source": [
    "df.columns"
   ]
  },
  {
   "cell_type": "code",
   "execution_count": 5,
   "id": "e7aa2dc6",
   "metadata": {},
   "outputs": [
    {
     "data": {
      "text/html": [
       "<div>\n",
       "<style scoped>\n",
       "    .dataframe tbody tr th:only-of-type {\n",
       "        vertical-align: middle;\n",
       "    }\n",
       "\n",
       "    .dataframe tbody tr th {\n",
       "        vertical-align: top;\n",
       "    }\n",
       "\n",
       "    .dataframe thead th {\n",
       "        text-align: right;\n",
       "    }\n",
       "</style>\n",
       "<table border=\"1\" class=\"dataframe\">\n",
       "  <thead>\n",
       "    <tr style=\"text-align: right;\">\n",
       "      <th></th>\n",
       "      <th>label</th>\n",
       "      <th>sms_message</th>\n",
       "      <th>Unnamed: 2</th>\n",
       "      <th>Unnamed: 3</th>\n",
       "      <th>Unnamed: 4</th>\n",
       "    </tr>\n",
       "  </thead>\n",
       "  <tbody>\n",
       "    <tr>\n",
       "      <th>0</th>\n",
       "      <td>ham</td>\n",
       "      <td>Go until jurong point, crazy.. Available only ...</td>\n",
       "      <td>NaN</td>\n",
       "      <td>NaN</td>\n",
       "      <td>NaN</td>\n",
       "    </tr>\n",
       "    <tr>\n",
       "      <th>1</th>\n",
       "      <td>ham</td>\n",
       "      <td>Ok lar... Joking wif u oni...</td>\n",
       "      <td>NaN</td>\n",
       "      <td>NaN</td>\n",
       "      <td>NaN</td>\n",
       "    </tr>\n",
       "    <tr>\n",
       "      <th>2</th>\n",
       "      <td>spam</td>\n",
       "      <td>Free entry in 2 a wkly comp to win FA Cup fina...</td>\n",
       "      <td>NaN</td>\n",
       "      <td>NaN</td>\n",
       "      <td>NaN</td>\n",
       "    </tr>\n",
       "    <tr>\n",
       "      <th>3</th>\n",
       "      <td>ham</td>\n",
       "      <td>U dun say so early hor... U c already then say...</td>\n",
       "      <td>NaN</td>\n",
       "      <td>NaN</td>\n",
       "      <td>NaN</td>\n",
       "    </tr>\n",
       "    <tr>\n",
       "      <th>4</th>\n",
       "      <td>ham</td>\n",
       "      <td>Nah I don't think he goes to usf, he lives aro...</td>\n",
       "      <td>NaN</td>\n",
       "      <td>NaN</td>\n",
       "      <td>NaN</td>\n",
       "    </tr>\n",
       "  </tbody>\n",
       "</table>\n",
       "</div>"
      ],
      "text/plain": [
       "  label                                        sms_message Unnamed: 2  \\\n",
       "0   ham  Go until jurong point, crazy.. Available only ...        NaN   \n",
       "1   ham                      Ok lar... Joking wif u oni...        NaN   \n",
       "2  spam  Free entry in 2 a wkly comp to win FA Cup fina...        NaN   \n",
       "3   ham  U dun say so early hor... U c already then say...        NaN   \n",
       "4   ham  Nah I don't think he goes to usf, he lives aro...        NaN   \n",
       "\n",
       "  Unnamed: 3 Unnamed: 4  \n",
       "0        NaN        NaN  \n",
       "1        NaN        NaN  \n",
       "2        NaN        NaN  \n",
       "3        NaN        NaN  \n",
       "4        NaN        NaN  "
      ]
     },
     "execution_count": 5,
     "metadata": {},
     "output_type": "execute_result"
    }
   ],
   "source": [
    "df.head(5)"
   ]
  },
  {
   "cell_type": "code",
   "execution_count": 6,
   "id": "ad886b73",
   "metadata": {},
   "outputs": [
    {
     "data": {
      "text/html": [
       "<div>\n",
       "<style scoped>\n",
       "    .dataframe tbody tr th:only-of-type {\n",
       "        vertical-align: middle;\n",
       "    }\n",
       "\n",
       "    .dataframe tbody tr th {\n",
       "        vertical-align: top;\n",
       "    }\n",
       "\n",
       "    .dataframe thead th {\n",
       "        text-align: right;\n",
       "    }\n",
       "</style>\n",
       "<table border=\"1\" class=\"dataframe\">\n",
       "  <thead>\n",
       "    <tr style=\"text-align: right;\">\n",
       "      <th></th>\n",
       "      <th>label</th>\n",
       "      <th>sms_message</th>\n",
       "      <th>Unnamed: 2</th>\n",
       "      <th>Unnamed: 3</th>\n",
       "      <th>Unnamed: 4</th>\n",
       "    </tr>\n",
       "  </thead>\n",
       "  <tbody>\n",
       "    <tr>\n",
       "      <th>count</th>\n",
       "      <td>5572</td>\n",
       "      <td>5572</td>\n",
       "      <td>50</td>\n",
       "      <td>12</td>\n",
       "      <td>6</td>\n",
       "    </tr>\n",
       "    <tr>\n",
       "      <th>unique</th>\n",
       "      <td>2</td>\n",
       "      <td>5169</td>\n",
       "      <td>43</td>\n",
       "      <td>10</td>\n",
       "      <td>5</td>\n",
       "    </tr>\n",
       "    <tr>\n",
       "      <th>top</th>\n",
       "      <td>ham</td>\n",
       "      <td>Sorry, I'll call later</td>\n",
       "      <td>bt not his girlfrnd... G o o d n i g h t . . .@\"</td>\n",
       "      <td>MK17 92H. 450Ppw 16\"</td>\n",
       "      <td>GNT:-)\"</td>\n",
       "    </tr>\n",
       "    <tr>\n",
       "      <th>freq</th>\n",
       "      <td>4825</td>\n",
       "      <td>30</td>\n",
       "      <td>3</td>\n",
       "      <td>2</td>\n",
       "      <td>2</td>\n",
       "    </tr>\n",
       "  </tbody>\n",
       "</table>\n",
       "</div>"
      ],
      "text/plain": [
       "       label             sms_message  \\\n",
       "count   5572                    5572   \n",
       "unique     2                    5169   \n",
       "top      ham  Sorry, I'll call later   \n",
       "freq    4825                      30   \n",
       "\n",
       "                                               Unnamed: 2  \\\n",
       "count                                                  50   \n",
       "unique                                                 43   \n",
       "top      bt not his girlfrnd... G o o d n i g h t . . .@\"   \n",
       "freq                                                    3   \n",
       "\n",
       "                   Unnamed: 3 Unnamed: 4  \n",
       "count                      12          6  \n",
       "unique                     10          5  \n",
       "top      MK17 92H. 450Ppw 16\"    GNT:-)\"  \n",
       "freq                        2          2  "
      ]
     },
     "execution_count": 6,
     "metadata": {},
     "output_type": "execute_result"
    }
   ],
   "source": [
    "df.describe()"
   ]
  },
  {
   "cell_type": "code",
   "execution_count": 7,
   "id": "842fdbc5",
   "metadata": {},
   "outputs": [
    {
     "name": "stdout",
     "output_type": "stream",
     "text": [
      "<class 'pandas.core.frame.DataFrame'>\n",
      "RangeIndex: 5572 entries, 0 to 5571\n",
      "Data columns (total 5 columns):\n",
      " #   Column       Non-Null Count  Dtype \n",
      "---  ------       --------------  ----- \n",
      " 0   label        5572 non-null   object\n",
      " 1   sms_message  5572 non-null   object\n",
      " 2   Unnamed: 2   50 non-null     object\n",
      " 3   Unnamed: 3   12 non-null     object\n",
      " 4   Unnamed: 4   6 non-null      object\n",
      "dtypes: object(5)\n",
      "memory usage: 217.8+ KB\n"
     ]
    }
   ],
   "source": [
    "df.info()"
   ]
  },
  {
   "cell_type": "markdown",
   "id": "d93cc416",
   "metadata": {},
   "source": [
    "**Visualisation of Ham and Spam**"
   ]
  },
  {
   "cell_type": "code",
   "execution_count": 8,
   "id": "b741d9e5",
   "metadata": {},
   "outputs": [
    {
     "data": {
      "image/png": "[encoded data removed]",
      "text/plain": [
       "<Figure size 432x288 with 1 Axes>"
      ]
     },
     "metadata": {
      "needs_background": "light"
     },
     "output_type": "display_data"
    }
   ],
   "source": [
    "# Visualize Distribution of Messages using Bar Chart\n",
    "\n",
    "count_class=pd.value_counts(df['label'],sort=True)\n",
    "count_class.plot(kind='bar',color=['Green','Red'])\n",
    "plt.title('Bar Chart ------> Spam v/s Ham')\n",
    "plt.show()"
   ]
  },
  {
   "cell_type": "markdown",
   "id": "3f880719",
   "metadata": {},
   "source": [
    "**Encoding**"
   ]
  },
  {
   "cell_type": "code",
   "execution_count": 9,
   "id": "af9c7248",
   "metadata": {
    "scrolled": true
   },
   "outputs": [
    {
     "name": "stdout",
     "output_type": "stream",
     "text": [
      "(5572, 5)\n"
     ]
    },
    {
     "data": {
      "text/html": [
       "<div>\n",
       "<style scoped>\n",
       "    .dataframe tbody tr th:only-of-type {\n",
       "        vertical-align: middle;\n",
       "    }\n",
       "\n",
       "    .dataframe tbody tr th {\n",
       "        vertical-align: top;\n",
       "    }\n",
       "\n",
       "    .dataframe thead th {\n",
       "        text-align: right;\n",
       "    }\n",
       "</style>\n",
       "<table border=\"1\" class=\"dataframe\">\n",
       "  <thead>\n",
       "    <tr style=\"text-align: right;\">\n",
       "      <th></th>\n",
       "      <th>label</th>\n",
       "      <th>sms_message</th>\n",
       "      <th>Unnamed: 2</th>\n",
       "      <th>Unnamed: 3</th>\n",
       "      <th>Unnamed: 4</th>\n",
       "    </tr>\n",
       "  </thead>\n",
       "  <tbody>\n",
       "    <tr>\n",
       "      <th>0</th>\n",
       "      <td>0</td>\n",
       "      <td>Go until jurong point, crazy.. Available only ...</td>\n",
       "      <td>NaN</td>\n",
       "      <td>NaN</td>\n",
       "      <td>NaN</td>\n",
       "    </tr>\n",
       "    <tr>\n",
       "      <th>1</th>\n",
       "      <td>0</td>\n",
       "      <td>Ok lar... Joking wif u oni...</td>\n",
       "      <td>NaN</td>\n",
       "      <td>NaN</td>\n",
       "      <td>NaN</td>\n",
       "    </tr>\n",
       "    <tr>\n",
       "      <th>2</th>\n",
       "      <td>1</td>\n",
       "      <td>Free entry in 2 a wkly comp to win FA Cup fina...</td>\n",
       "      <td>NaN</td>\n",
       "      <td>NaN</td>\n",
       "      <td>NaN</td>\n",
       "    </tr>\n",
       "    <tr>\n",
       "      <th>3</th>\n",
       "      <td>0</td>\n",
       "      <td>U dun say so early hor... U c already then say...</td>\n",
       "      <td>NaN</td>\n",
       "      <td>NaN</td>\n",
       "      <td>NaN</td>\n",
       "    </tr>\n",
       "    <tr>\n",
       "      <th>4</th>\n",
       "      <td>0</td>\n",
       "      <td>Nah I don't think he goes to usf, he lives aro...</td>\n",
       "      <td>NaN</td>\n",
       "      <td>NaN</td>\n",
       "      <td>NaN</td>\n",
       "    </tr>\n",
       "  </tbody>\n",
       "</table>\n",
       "</div>"
      ],
      "text/plain": [
       "   label                                        sms_message Unnamed: 2  \\\n",
       "0      0  Go until jurong point, crazy.. Available only ...        NaN   \n",
       "1      0                      Ok lar... Joking wif u oni...        NaN   \n",
       "2      1  Free entry in 2 a wkly comp to win FA Cup fina...        NaN   \n",
       "3      0  U dun say so early hor... U c already then say...        NaN   \n",
       "4      0  Nah I don't think he goes to usf, he lives aro...        NaN   \n",
       "\n",
       "  Unnamed: 3 Unnamed: 4  \n",
       "0        NaN        NaN  \n",
       "1        NaN        NaN  \n",
       "2        NaN        NaN  \n",
       "3        NaN        NaN  \n",
       "4        NaN        NaN  "
      ]
     },
     "execution_count": 9,
     "metadata": {},
     "output_type": "execute_result"
    }
   ],
   "source": [
    "# Spam and Ham Message\n",
    "# Mapping label column to integer 0 -> ham and 1 -> spam\n",
    "\n",
    "df['label'] = df.label.map({'ham':0, 'spam':1})\n",
    "print(df.shape)\n",
    "df.head()"
   ]
  },
  {
   "cell_type": "markdown",
   "id": "0b0f4079",
   "metadata": {},
   "source": [
    "**Testing, Training, and Splitting**"
   ]
  },
  {
   "cell_type": "code",
   "execution_count": 10,
   "id": "0dbff245",
   "metadata": {},
   "outputs": [],
   "source": [
    "from sklearn.model_selection import train_test_split\n",
    "\n",
    "x_train,x_test,y_train,y_test=train_test_split(df['sms_message'],df['label'],random_state=1)"
   ]
  },
  {
   "cell_type": "code",
   "execution_count": 11,
   "id": "6806a732",
   "metadata": {},
   "outputs": [
    {
     "name": "stdout",
     "output_type": "stream",
     "text": [
      "Number of rows in the total set   : 5572\n",
      "Number of rows in the training set: 4179\n",
      "Number of rows in the test set    : 1393\n"
     ]
    }
   ],
   "source": [
    "print('Number of rows in the total set   : {}'.format(df.shape[0]))\n",
    "print('Number of rows in the training set: {}'.format(x_train.shape[0]))\n",
    "print('Number of rows in the test set    : {}'.format(x_test.shape[0]))\n"
   ]
  },
  {
   "cell_type": "code",
   "execution_count": 12,
   "id": "2072291a",
   "metadata": {},
   "outputs": [
    {
     "name": "stdout",
     "output_type": "stream",
     "text": [
      "x_train data :\n",
      " 710     Height of Confidence: All the Aeronautics prof...\n",
      "3740                                        2/2 146tf150p\n",
      "2711    Wen ur lovable bcums angry wid u, dnt take it ...\n",
      "3155                    Long time. You remember me today.\n",
      "3748    Dear Voucher Holder 2 claim your 1st class air...\n",
      "                              ...                        \n",
      "905     Hey what's up charles sorry about the late reply.\n",
      "5192    Oh oh... Den muz change plan liao... Go back h...\n",
      "3980    Huh i cant thk of more oredi how many pages do...\n",
      "235     I have printed it oh. So  &lt;#&gt;  come upst...\n",
      "5157                              K k:) sms chat with me.\n",
      "Name: sms_message, Length: 4179, dtype: object\n"
     ]
    }
   ],
   "source": [
    "print('x_train data :\\n',x_train)"
   ]
  },
  {
   "cell_type": "code",
   "execution_count": 13,
   "id": "6e7c5ee2",
   "metadata": {},
   "outputs": [
    {
     "name": "stdout",
     "output_type": "stream",
     "text": [
      "x_test data :\n",
      " 1078                             Convey my regards to him\n",
      "4028             [Û_] anyway, many good evenings to u! s\n",
      "958     My sort code is  and acc no is . The bank is n...\n",
      "4642                          Sorry i din lock my keypad.\n",
      "4674    Hi babe its Chloe, how r u? I was smashed on s...\n",
      "                              ...                        \n",
      "3207    Oops my phone died and I didn't even know. Yea...\n",
      "4655                           K, I'll work something out\n",
      "1140            Oh:)as usual vijay film or its different?\n",
      "1793              You bad girl. I can still remember them\n",
      "1710    (No promises on when though, haven't even gott...\n",
      "Name: sms_message, Length: 1393, dtype: object\n"
     ]
    }
   ],
   "source": [
    "print('x_test data :\\n',x_test)"
   ]
  },
  {
   "cell_type": "code",
   "execution_count": 14,
   "id": "5c693a34",
   "metadata": {},
   "outputs": [
    {
     "name": "stdout",
     "output_type": "stream",
     "text": [
      "y_train data :\n",
      " 710     0\n",
      "3740    1\n",
      "2711    0\n",
      "3155    0\n",
      "3748    1\n",
      "       ..\n",
      "905     0\n",
      "5192    0\n",
      "3980    0\n",
      "235     0\n",
      "5157    0\n",
      "Name: label, Length: 4179, dtype: int64\n"
     ]
    }
   ],
   "source": [
    "print('y_train data :\\n',y_train)"
   ]
  },
  {
   "cell_type": "code",
   "execution_count": 15,
   "id": "268e7575",
   "metadata": {},
   "outputs": [
    {
     "name": "stdout",
     "output_type": "stream",
     "text": [
      "y_test data :\n",
      " 1078    0\n",
      "4028    0\n",
      "958     0\n",
      "4642    0\n",
      "4674    1\n",
      "       ..\n",
      "3207    0\n",
      "4655    0\n",
      "1140    0\n",
      "1793    0\n",
      "1710    0\n",
      "Name: label, Length: 1393, dtype: int64\n"
     ]
    }
   ],
   "source": [
    "print('y_test data :\\n',y_test)"
   ]
  },
  {
   "cell_type": "code",
   "execution_count": 16,
   "id": "6bcc12ed",
   "metadata": {},
   "outputs": [],
   "source": [
    "# In order to use textual data for predictive modeling, text must be parsed to remove certain words this process \n",
    "# is called tokenization. \n",
    "\n",
    "# These words need to then be encoded as integers, or floating-point values, for use as inputs in ML algorithms.\n",
    "\n",
    "# This process is called feature extraction (or vectorization).\n",
    "\n",
    "# Scikit-learn’s CountVectorizer is used to convert a collection of text documents to a vector of term/token counts.\n",
    "\n",
    "# It also enables the pre-processing of text data prior to generating the vector representation.\n",
    "\n",
    "# This functionality makes it a highly flexible feature representation module for text."
   ]
  },
  {
   "cell_type": "markdown",
   "id": "17672d6c",
   "metadata": {},
   "source": [
    "**How Tokenisation Work**"
   ]
  },
  {
   "cell_type": "code",
   "execution_count": 17,
   "id": "2a6517d2",
   "metadata": {},
   "outputs": [
    {
     "data": {
      "image/jpeg": "[encoded data removed]",
      "text/plain": [
       "<IPython.core.display.Image object>"
      ]
     },
     "execution_count": 17,
     "metadata": {},
     "output_type": "execute_result"
    }
   ],
   "source": [
    "from IPython import display\n",
    "\n",
    "display.Image(r\"C:\\Users\\kshit\\OneDrive\\Desktop\\Machine Learning\\ML after mid term\\ML images.jpg\")"
   ]
  },
  {
   "cell_type": "code",
   "execution_count": 18,
   "id": "4bcacd54",
   "metadata": {},
   "outputs": [],
   "source": [
    "from sklearn.feature_extraction.text import CountVectorizer\n",
    "\n",
    "# Instantiate the CountVectorizer method\n",
    "count_vector = CountVectorizer()\n",
    "\n",
    "# Fit the training data and then return the matrix\n",
    "training_data = count_vector.fit_transform(x_train)\n",
    "\n",
    "# Transform testing data and return the matrix. Note we are not fitting the testing data into the CountVectorizer()\n",
    "testing_data = count_vector.transform(x_test)"
   ]
  },
  {
   "cell_type": "markdown",
   "id": "f044c0aa",
   "metadata": {},
   "source": [
    "**Applying Naive Bayes**"
   ]
  },
  {
   "cell_type": "code",
   "execution_count": 19,
   "id": "fdfab982",
   "metadata": {},
   "outputs": [
    {
     "data": {
      "text/plain": [
       "MultinomialNB()"
      ]
     },
     "execution_count": 19,
     "metadata": {},
     "output_type": "execute_result"
    }
   ],
   "source": [
    "from sklearn.naive_bayes import MultinomialNB\n",
    "\n",
    "naive_bayes = MultinomialNB()\n",
    "naive_bayes.fit(training_data, y_train)"
   ]
  },
  {
   "cell_type": "markdown",
   "id": "5de049af",
   "metadata": {},
   "source": [
    "**Prediction**"
   ]
  },
  {
   "cell_type": "code",
   "execution_count": 20,
   "id": "ca648d0c",
   "metadata": {},
   "outputs": [
    {
     "name": "stdout",
     "output_type": "stream",
     "text": [
      "Predicition Values [0 0 0 ... 0 0 0]\n"
     ]
    }
   ],
   "source": [
    "predictions = naive_bayes.predict(testing_data)\n",
    "print('Predicition Values',predictions)"
   ]
  },
  {
   "cell_type": "markdown",
   "id": "44244d74",
   "metadata": {},
   "source": [
    "**Accuracy, Precision, Recall Score, F1 Score**"
   ]
  },
  {
   "cell_type": "code",
   "execution_count": 21,
   "id": "9952c843",
   "metadata": {},
   "outputs": [
    {
     "name": "stdout",
     "output_type": "stream",
     "text": [
      "Accuracy score :  0.9856424982053122\n",
      "Precision score:  0.9545454545454546\n",
      "Recall score   :  0.9333333333333333\n",
      "F1 score       :  0.9438202247191012\n"
     ]
    }
   ],
   "source": [
    "from sklearn.metrics import accuracy_score, precision_score, recall_score, f1_score\n",
    "\n",
    "print('Accuracy score : ', format(accuracy_score(y_test, predictions)))\n",
    "print('Precision score: ', format(precision_score(y_test, predictions)))\n",
    "print('Recall score   : ', format(recall_score(y_test, predictions)))\n",
    "print('F1 score       : ', format(f1_score(y_test, predictions)))"
   ]
  },
  {
   "cell_type": "markdown",
   "id": "1a202ef9",
   "metadata": {},
   "source": [
    "**Testing the Accuracy**"
   ]
  },
  {
   "cell_type": "code",
   "execution_count": 22,
   "id": "21b87d2d",
   "metadata": {},
   "outputs": [],
   "source": [
    "messages = [\"Congragulations! You have won a $10,000. Go to https://bit.ly/23343 to claim now.\",\n",
    "            \"Nah I don't think he goes to usf, he lives around here though\",\n",
    "            \"Get $10 Amazon Gift Voucher on Completing the Demo:- va.pcb3.in/ click this link to claim now\",\n",
    "            \"You have won a $500. Please register your account today itself to claim now https://imp.com\",\n",
    "           ]\n",
    "\n",
    "message_transformed = count_vector.transform(messages)\n",
    "new_prediction = naive_bayes.predict(message_transformed)"
   ]
  },
  {
   "cell_type": "code",
   "execution_count": 23,
   "id": "26751566",
   "metadata": {},
   "outputs": [
    {
     "name": "stdout",
     "output_type": "stream",
     "text": [
      "Spam.\n",
      "Ham\n",
      "Spam.\n",
      "Spam.\n"
     ]
    }
   ],
   "source": [
    "for i in range(len(new_prediction)):\n",
    "    if new_prediction[i] == 0:\n",
    "        print('Ham')\n",
    "        \n",
    "    else:\n",
    "        print('Spam.')\n",
    "    "
   ]
  }
 ],
 "metadata": {
  "kernelspec": {
   "display_name": "Python 3 (ipykernel)",
   "language": "python",
   "name": "python3"
  },
  "language_info": {
   "codemirror_mode": {
    "name": "ipython",
    "version": 3
   },
   "file_extension": ".py",
   "mimetype": "text/x-python",
   "name": "python",
   "nbconvert_exporter": "python",
   "pygments_lexer": "ipython3",
   "version": "3.9.12"
  }
 },
 "nbformat": 4,
 "nbformat_minor": 5
}
